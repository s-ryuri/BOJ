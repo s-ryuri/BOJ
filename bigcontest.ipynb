{
  "nbformat": 4,
  "nbformat_minor": 0,
  "metadata": {
    "colab": {
      "name": "bigcontest.ipynb",
      "private_outputs": true,
      "provenance": [],
      "collapsed_sections": [],
      "authorship_tag": "ABX9TyOmIOfVtB9nxd8vzZP+yRWv"
    },
    "kernelspec": {
      "name": "python3",
      "display_name": "Python 3"
    },
    "language_info": {
      "name": "python"
    }
  },
  "cells": [
    {
      "cell_type": "code",
      "metadata": {
        "id": "9vjCDjJgQCUm"
      },
      "source": [
        "from google.colab import drive\n",
        "drive.mount('/content/drive')"
      ],
      "execution_count": null,
      "outputs": []
    },
    {
      "cell_type": "markdown",
      "metadata": {
        "id": "ICzpmoo7Ynur"
      },
      "source": [
        ""
      ]
    },
    {
      "cell_type": "code",
      "metadata": {
        "id": "8NiIx2wXQDR2"
      },
      "source": [
        "%cd drive/MyDrive/bigcontest/bigdata"
      ],
      "execution_count": null,
      "outputs": []
    },
    {
      "cell_type": "code",
      "metadata": {
        "id": "MA3uhLTWQKhV"
      },
      "source": [
        "import pandas as pd\n",
        "import numpy as np\n",
        "import matplotlib.pyplot as plt\n",
        "import seaborn as sns\n",
        "import missingno as msno\n",
        "import matplotlib as mat\n",
        "\n",
        "#ignore warnings\n",
        "import warnings\n",
        "warnings.filterwarnings('ignore')\n",
        "plt.style.use('seaborn')\n",
        "\n",
        "\n",
        "plt.rc('font', family='NanumBarunGothic') \n",
        "# !sudo apt-get install -y fonts-nanum\n",
        "# !sudo fc-cache -fv\n",
        "# !rm ~/.cache/matplotlib -rf\n",
        "# import matplotlib as mpl \n",
        "# import matplotlib.pyplot as plt \n",
        "# import matplotlib.font_manager as fm  \n",
        "\n",
        "# !apt-get update -qq\n",
        "# !apt-get install fonts-nanum* -qq\n",
        "\n",
        "# path = '/usr/share/fonts/truetype/nanum/NanumGothic.ttf' \n",
        "# font_name = fm.FontProperties(fname=path, size=10).get_name()\n",
        "# plt.rc('font', family=font_name)\n",
        "\n",
        "# fm._rebuild()\n",
        "# mpl.rcParams['axes.unicode_minus'] = False"
      ],
      "execution_count": null,
      "outputs": []
    },
    {
      "cell_type": "code",
      "metadata": {
        "id": "MQ87kFLxQYuz"
      },
      "source": [
        "data = pd.read_csv('problem_data.csv')"
      ],
      "execution_count": null,
      "outputs": []
    },
    {
      "cell_type": "code",
      "metadata": {
        "id": "O3AlKLWyQnbD"
      },
      "source": [
        "data.drop('P_TYPE',axis = 1,inplace= True) #어차피 수산물로 다 같기 때문에 필요가 없다."
      ],
      "execution_count": null,
      "outputs": []
    },
    {
      "cell_type": "markdown",
      "metadata": {
        "id": "rTAnd1MHV2Oe"
      },
      "source": [
        "P_TYPE은 모두 다 같기 때문에 데이터에서 지웠습니다."
      ]
    },
    {
      "cell_type": "code",
      "metadata": {
        "id": "QtDvvr8bG4Zk"
      },
      "source": [
        "data['VALUE_COUNT'] = 0;\n",
        "value_dict = {}\n",
        "for name, value in zip(data['P_NAME'].value_counts().index,data['P_NAME'].value_counts()):\n",
        "    value_dict[name] = value\n",
        "\n",
        "def value(col):\n",
        "    return value_dict[col]\n",
        "\n",
        "data['VALUE_COUNT'] = data['P_NAME'].apply(value)"
      ],
      "execution_count": null,
      "outputs": []
    },
    {
      "cell_type": "markdown",
      "metadata": {
        "id": "VJjBedPbV_Ur"
      },
      "source": [
        "어종에 따라서 개수의 차이가 많이 나기 때문에 개수가 작은 걸 처리해주기위해서 P_NAME에 해당하는 value counts를 데이터에 추가해줬습니다. "
      ]
    },
    {
      "cell_type": "code",
      "metadata": {
        "id": "Iz13zJJyRxOU"
      },
      "source": [
        "#수입용도 컬럼을 숫자로 바꿔주는 코드\n",
        "P_purpos = {}\n",
        "for number,category in enumerate(data['P_PURPOSE'].unique()):\n",
        "    P_purpos[category] = number\n",
        "\n",
        "data['P_PURPOSE'] = data['P_PURPOSE'].map(P_purpos)"
      ],
      "execution_count": null,
      "outputs": []
    },
    {
      "cell_type": "markdown",
      "metadata": {
        "id": "ywNf9nf1WIrQ"
      },
      "source": [
        "수입용도를 숫자로 바꿔주는 코드입니다."
      ]
    },
    {
      "cell_type": "code",
      "metadata": {
        "id": "Odnj34LSRPTL"
      },
      "source": [
        "#P_PRICE 평균단가에 ,가 들어간 숫자가 있기에 그 수를 바꿔주고 float 타입으로 다 바꿔줌\n",
        "\n",
        "def rep(col):\n",
        "    return col.replace(',','')\n",
        "\n",
        "data['P_PRICE'] = data['P_PRICE'].map(rep)\n",
        "data['P_PRICE']= data['P_PRICE'].astype(float)"
      ],
      "execution_count": null,
      "outputs": []
    },
    {
      "cell_type": "markdown",
      "metadata": {
        "id": "if-mk4sQWN9c"
      },
      "source": [
        "P_PRICE 데이터 자체에 ,가 들어간 숫자가 한 개 있기에 ,를 바꿔주고\n",
        "기본 데이터 타입이 object로 되어 있어서 float으로 변환해줬습니다."
      ]
    },
    {
      "cell_type": "code",
      "metadata": {
        "id": "rCqg78Mb7-G9"
      },
      "source": [
        "#제조국과 수출국에 있는 모든 도시들을 합쳐서 숫자로 바꿔줌\n",
        "city_list = []\n",
        "\n",
        "for i in data['CTRY_1'].unique():\n",
        "    city_list.append(i)\n",
        "\n",
        "for i in data['CTRY_2'].unique():\n",
        "    if i not in city_list:\n",
        "        city_list.append(i)\n",
        "\n",
        "citytonumber = {}\n",
        "for number,city in enumerate(city_list):\n",
        "    citytonumber[city] = number\n",
        "\n",
        "data['CTRY_1'] = data['CTRY_1'].map(citytonumber)\n",
        "data['CTRY_2'] = data['CTRY_2'].map(citytonumber)"
      ],
      "execution_count": null,
      "outputs": []
    },
    {
      "cell_type": "markdown",
      "metadata": {
        "id": "R0LGRw97aK82"
      },
      "source": [
        "제조국과 수출국에 있는 모든 도시들을 합쳐서\n",
        "숫자로 바꿔줬습니다."
      ]
    },
    {
      "cell_type": "code",
      "metadata": {
        "id": "vPS-NY2I8yxJ"
      },
      "source": [
        "#종분류명 카테고리와 어종을 숫자로 바꿔주는 코드\n",
        "\n",
        "ca1 = {}\n",
        "\n",
        "for idx,name in enumerate(data['CATEGORY_1'].unique()):\n",
        "    ca1[name] = idx;\n",
        "\n",
        "ca2 = {}\n",
        "\n",
        "for idx,name in enumerate(data['CATEGORY_2'].unique()):\n",
        "    ca2[name] = idx;\n",
        "\n",
        "data['CATEGORY_1'] = data['CATEGORY_1'].map(ca1)\n",
        "data['CATEGORY_2'] = data['CATEGORY_2'].map(ca2)"
      ],
      "execution_count": null,
      "outputs": []
    },
    {
      "cell_type": "markdown",
      "metadata": {
        "id": "Bx1CE1yzaNYN"
      },
      "source": [
        "종분류명과 어종을 숫자로 바꿔주는 코드입니다."
      ]
    },
    {
      "cell_type": "code",
      "metadata": {
        "id": "PAHKWgV__iRi"
      },
      "source": [
        "#P_IMPORT_TYPE 수입형태를 숫자로 바꿔주는 코드\n",
        "\n",
        "p_type = {}\n",
        "for idx, name in enumerate(data.P_IMPORT_TYPE.unique()):\n",
        "    p_type[name] = idx\n",
        "\n",
        "data['P_IMPORT_TYPE'] = data['P_IMPORT_TYPE'].map(p_type)"
      ],
      "execution_count": null,
      "outputs": []
    },
    {
      "cell_type": "markdown",
      "metadata": {
        "id": "04j2iEUkWdK7"
      },
      "source": [
        "P_IMPORT_TYPE을 숫자로 바꿔주는 코드입니다."
      ]
    },
    {
      "cell_type": "code",
      "metadata": {
        "id": "6p8XA4Ks_vNq"
      },
      "source": [
        "#P_NAME 상세어종을 숫자로 바꿔주는 코드\n",
        "\n",
        "p_name = {}\n",
        "for idx, name in enumerate(data.P_NAME.unique()):\n",
        "    p_name[name] = idx\n",
        "data['P_NAME'] = data['P_NAME'].map(p_name)"
      ],
      "execution_count": null,
      "outputs": []
    },
    {
      "cell_type": "markdown",
      "metadata": {
        "id": "3JfLbuLSWgVo"
      },
      "source": [
        "상세어종을 숫자로 바꿔주는 코드입니다."
      ]
    },
    {
      "cell_type": "code",
      "metadata": {
        "id": "hdo2eIYVinv3"
      },
      "source": [
        "#강수량 데이터를 기존에 있던 데이터에 있는 날짜에 맞게 바꿔주는 코드\n",
        "\n",
        "rain = pd.read_csv('강수량.csv',encoding = 'cp949')\n",
        "\n",
        "rainday = rain['날짜']\n",
        "rainamount = rain['강수량(mm)']\n",
        "\n",
        "raindict = {}\n",
        "\n",
        "for day,amount in zip(rainday,rainamount):\n",
        "    raindict[day] = amount\n",
        "\n",
        "data['RAIN'] = 0\n",
        "\n",
        "def rain(col):\n",
        "    return raindict[col]\n",
        "\n",
        "data['RAIN'] = data['REG_DATE'].apply(rain)"
      ],
      "execution_count": null,
      "outputs": []
    },
    {
      "cell_type": "markdown",
      "metadata": {
        "id": "usEq1EiaWiYV"
      },
      "source": [
        "어획량 자체에 강수량이 영향을 끼친다고 판단을 해서 기존의 데이터에 강수량 데이터를 추가해주는 코드입니다."
      ]
    },
    {
      "cell_type": "code",
      "metadata": {
        "id": "YakT7gfSkorv"
      },
      "source": [
        "#소비자물가지수 데이터를 기존의 데이터에 추가하고 날짜에 맞게 값을 넣어주는 코드\n",
        "\n",
        "consumer = pd.read_csv('소비자물가지수.csv',encoding = 'cp949')\n",
        "consumer.drop('시도별',axis =1 , inplace = True)\n",
        "consumer.columns = consumer.columns.str.replace('.','-')\n",
        "consumerday = consumer.columns\n",
        "consumerday = consumerday.str.replace(' ','')\n",
        "consumeramount = consumer.iloc[0]\n",
        "\n",
        "consumerdict = {}\n",
        "for day,amount in zip(consumerday,consumeramount):\n",
        "    consumerdict[day] = amount\n",
        "\n",
        "\n",
        "data['CONSUMER'] = 0\n",
        "\n",
        "def consumersplit(col):\n",
        "    a = col.split('-')\n",
        "    b = '-'.join(a[:2])\n",
        "    return consumerdict[b]\n",
        "\n",
        "data['CONSUMER'] = data['REG_DATE'].apply(consumersplit)"
      ],
      "execution_count": null,
      "outputs": []
    },
    {
      "cell_type": "markdown",
      "metadata": {
        "id": "KnjbAa4XWrht"
      },
      "source": [
        "소비자 물가지수를 통해서 가격을 유추할 수 있다고 판단을 해 소비자물가지수 데이터를 기존의 데이터에 추가했습니다."
      ]
    },
    {
      "cell_type": "code",
      "metadata": {
        "id": "oIvCOpBknvWr"
      },
      "source": [
        "#기온 데이터를 기존의 데이터에 추가하고 날짜에 맞게 값을 넣어주는 코드\n",
        "\n",
        "data_tem = pd.read_csv('기온.csv',encoding='cp949')\n",
        "data['TEMP'] = 0\n",
        "\n",
        "tem_day = data_tem['날짜']\n",
        "tem = data_tem['평균기온(℃)']\n",
        "\n",
        "tem_dict = {}\n",
        "\n",
        "for day, t in zip(tem_day, tem):\n",
        "  tem_dict[day] = t\n",
        "\n",
        "data['TEMP'] = data['REG_DATE'].map(tem_dict)"
      ],
      "execution_count": null,
      "outputs": []
    },
    {
      "cell_type": "markdown",
      "metadata": {
        "id": "BUR2e_EvWxv1"
      },
      "source": [
        "어획량과 가격에 기온이 영향을 미친다고 생각해서 기온데이터를 기존 데이터에 추가했습니다."
      ]
    },
    {
      "cell_type": "code",
      "metadata": {
        "id": "eQClTOe8pxB-"
      },
      "source": [
        "#인구 데이터를 기존의 데이터에 추가하고 날짜에 맞게 값을 넣어주는 코드\n",
        "\n",
        "data_popul_1 = pd.read_csv('201512_201712.csv',encoding = 'cp949')\n",
        "data_popul_2 = pd.read_csv('201801_201912.csv',encoding = 'cp949')\n",
        "data_popul_1 = data_popul_1.iloc[0,1::4]\n",
        "data_popul_2 = data_popul_2.iloc[0,1::4]\n",
        "data_popul = pd.concat([data_popul_1,data_popul_2])\n",
        "\n",
        "\n",
        "data_popul.index = data_popul.index.str.replace('_총인구수', '')\n",
        "data_popul.index = data_popul.index.str.replace('년', '-')\n",
        "data_popul.index = data_popul.index.str.replace('월', '')\n",
        "\n",
        "data_popul_dict = {}\n",
        "\n",
        "for day,amount in zip(data_popul.index,data_popul):\n",
        "    data_popul_dict[day] = amount\n",
        "\n",
        "def populsplit(col):\n",
        "    a = col.split('-')\n",
        "    b = '-'.join(a[:2])\n",
        "    return data_popul_dict[b]\n",
        "\n",
        "data['POPULATION'] = 0\n",
        "\n",
        "data['POPULATION'] = data['REG_DATE'].apply(populsplit)\n",
        "data['POPULATION'] = data['POPULATION'].str.replace(',','')\n",
        "data['POPULATION'] = data['POPULATION'].astype(int)"
      ],
      "execution_count": null,
      "outputs": []
    },
    {
      "cell_type": "markdown",
      "metadata": {
        "id": "VPouyl84aCkN"
      },
      "source": [
        "인구가 가격에 영향을 미친다고 생각해 기존의 데이터에 추가했습니다."
      ]
    },
    {
      "cell_type": "code",
      "metadata": {
        "id": "w5iA5d11ujXc"
      },
      "source": [
        "# #모델을 돌리기 위해서 REG_DATE를 year,month,day로 나눠주는 코드\n",
        "\n",
        "# def getyear(col):\n",
        "#     return col.split('-')[0]\n",
        "\n",
        "# def getmonth(col):\n",
        "#     return col.split('-')[1]\n",
        "\n",
        "# def getday(col):\n",
        "#     return col.split('-')[2]\n",
        "\n",
        "# data['YEAR'] = 0\n",
        "# data['MONTH'] = 0\n",
        "# data['DAY'] = 0\n",
        "\n",
        "# data['YEAR'] = data['REG_DATE'].apply(getyear)\n",
        "# data['MONTH'] = data['REG_DATE'].apply(getmonth)\n",
        "# data['DAY'] = data['REG_DATE'].apply(getday)\n",
        "\n",
        "# data['YEAR'] = data['YEAR'].astype(int)\n",
        "# data['MONTH'] = data['MONTH'].astype(int)\n",
        "# data['DAY'] = data['DAY'].astype(int)\n"
      ],
      "execution_count": null,
      "outputs": []
    },
    {
      "cell_type": "markdown",
      "metadata": {
        "id": "KaymfofCXEjC"
      },
      "source": [
        "REG_DATE를 year, month, day로 나눠주는 코드입니다.\n",
        "REG_DATE가 object로 되어 모델에 넣을 수 없기에 해줬습니다."
      ]
    },
    {
      "cell_type": "code",
      "metadata": {
        "id": "JXjcGtiasoRi"
      },
      "source": [
        "from sklearn.model_selection import train_test_split\n",
        "from sklearn.model_selection import cross_val_score\n",
        "from sklearn.ensemble import RandomForestRegressor\n",
        "from sklearn.metrics import accuracy_score\n",
        "from sklearn.ensemble import AdaBoostRegressor\n",
        "\n",
        "target = data['P_PRICE']\n",
        "train_data = data.drop(['P_PRICE','REG_DATE'],axis = 1)\n",
        "\n",
        "x_train,x_test,y_train,y_test = train_test_split(train_data,target,random_state = 0)\n",
        "\n",
        "model = RandomForestRegressor(n_estimators=500,random_state=0)\n",
        "model.fit(x_train,y_train)\n",
        "cross = cross_val_score(model,x_test,y_test,cv = 5)\n",
        "\n",
        "print('cross_tree',cross.mean())\n",
        "\n"
      ],
      "execution_count": null,
      "outputs": []
    },
    {
      "cell_type": "markdown",
      "metadata": {
        "id": "PxzvzBVVXMxe"
      },
      "source": [
        "예측해야되는 값이 P_PRICE를 target에 넣고 train_data에 P_PRICE와 REG_DATE를 drop하고 넣어줍니다. train_test_split을 이용해서 데이터를 나눠준 뒤 RandomForestREgressor를 진행했습니다. cross_val_score까지 하니 약 88%의 정확도가 나왔습니다."
      ]
    },
    {
      "cell_type": "code",
      "metadata": {
        "id": "e281Z_SntnUL"
      },
      "source": [
        "from sklearn.svm import SVR\n",
        "model = SVR()\n",
        "model.fit(x_train,y_train)\n",
        "cross_svr = cross_val_score(model,x_test,y_test,cv = 5)\n",
        "print('cross_svr',cross_svr.mean())"
      ],
      "execution_count": null,
      "outputs": []
    },
    {
      "cell_type": "markdown",
      "metadata": {
        "id": "Xu93JqQAXayF"
      },
      "source": [
        "SVR을 이용하는 코드입니다."
      ]
    },
    {
      "cell_type": "code",
      "metadata": {
        "id": "ao2BADJ6z9nc"
      },
      "source": [
        "from xgboost import XGBRegressor\n",
        "model = XGBRegressor(n_estimators=500,learning_rate=0.05,max_depth=3)\n",
        "model.fit(x_train,y_train)\n",
        "cross_xgboost = cross_val_score(model,x_test,y_test,cv = 5)\n",
        "\n",
        "print('cross_xgboost : ',cross_xgboost.mean())"
      ],
      "execution_count": null,
      "outputs": []
    },
    {
      "cell_type": "markdown",
      "metadata": {
        "id": "beK1B51tXcnH"
      },
      "source": [
        "XGBRegressor를 이용하는 코드입니다."
      ]
    },
    {
      "cell_type": "code",
      "metadata": {
        "id": "OAMj1yKBz_Op"
      },
      "source": [
        "from sklearn.linear_model import LinearRegression\n",
        "\n",
        "model = LinearRegression()\n",
        "model.fit(x_train,y_train)\n",
        "\n",
        "cross_linear = cross_val_score(model,x_test,y_test,cv = 5)\n",
        "print(cross_linear)\n",
        "print('cross_linear : ',cross_linear.mean())"
      ],
      "execution_count": null,
      "outputs": []
    },
    {
      "cell_type": "markdown",
      "metadata": {
        "id": "HDL2zDHbXfw0"
      },
      "source": [
        "LinearRegression을 이용하는 코드입니다."
      ]
    },
    {
      "cell_type": "code",
      "metadata": {
        "id": "4cu11z8N1eUc"
      },
      "source": [
        "from sklearn.neural_network import MLPRegressor\n",
        "\n",
        "model = MLPRegressor().fit(x_train,y_train)\n",
        "cross_MLP = cross_val_score(model,x_test,y_test,cv = 5)\n",
        "\n",
        "print('croos_MLP : ',cross_MLP.mean())"
      ],
      "execution_count": null,
      "outputs": []
    },
    {
      "cell_type": "markdown",
      "metadata": {
        "id": "N0_2_PtaXkri"
      },
      "source": [
        "MLPREGREESOR을 이용하는 코드입니다."
      ]
    },
    {
      "cell_type": "markdown",
      "metadata": {
        "id": "_R1sS0Q3Xiid"
      },
      "source": [
        ""
      ]
    },
    {
      "cell_type": "code",
      "metadata": {
        "id": "QMXS9iCgDogE"
      },
      "source": [
        ""
      ],
      "execution_count": null,
      "outputs": []
    },
    {
      "cell_type": "code",
      "metadata": {
        "id": "H7E4rhpuRSfF"
      },
      "source": [
        "# data['CTRY_1'] = data['CTRY_1'].astype('category')\n",
        "# data['CTRY_2'] = data['CTRY_2'].astype('category')\n",
        "# data['P_PURPOSE'] = data['P_PURPOSE'].astype('category')\n",
        "# data['CATEGORY_1'] = data['CATEGORY_1'].astype('category')\n",
        "# data['CATEGORY_2'] = data['CATEGORY_2'].astype('category')\n",
        "# data['P_NAME'] = data['P_NAME'].astype('category')\n",
        "# data['P_IMPORT_TYPE'] = data['P_IMPORT_TYPE'].astype('category')"
      ],
      "execution_count": null,
      "outputs": []
    },
    {
      "cell_type": "code",
      "metadata": {
        "id": "uwiVw94nS3TD"
      },
      "source": [
        "heatmap_data = data[['CTRY_2','P_PURPOSE','CATEGORY_1','CATEGORY_2','P_NAME','P_IMPORT_TYPE','P_PRICE','RAIN',\n",
        "                     'TEMP']]\n",
        "\n",
        "colormap = plt.cm.RdBu\n",
        "plt.figure(figsize=(14, 12))\n",
        "plt.title('Pearson Correlation of Features', y=1.05, size=15)\n",
        "sns.heatmap(heatmap_data.astype(float).corr(), linewidths=0.1, vmax=1.0,\n",
        "           square=True, cmap=colormap, linecolor='white', annot=True, annot_kws={\"size\": 11})\n"
      ],
      "execution_count": null,
      "outputs": []
    },
    {
      "cell_type": "markdown",
      "metadata": {
        "id": "N3cFfKrwXzHW"
      },
      "source": [
        "각 feature들 간의 상관관계를 보기 위해서 heatmap_data를 그렸습니다."
      ]
    },
    {
      "cell_type": "code",
      "metadata": {
        "id": "g-sLnUR-TWBJ"
      },
      "source": [
        "#data.drop(['REG_DATE','CTRY_1','CONSUMER','POPULATION'],axis = 1,inplace = True)"
      ],
      "execution_count": null,
      "outputs": []
    },
    {
      "cell_type": "code",
      "metadata": {
        "id": "mSb3fI6rrL1S"
      },
      "source": [
        "# fig ,ax = plt.subplots(1,1,figsize = (20,12))\n",
        "# sns.scatterplot('P_NAME','P_PRICE',data = data,ax = ax)\n",
        "# plt.xlim(0,20)"
      ],
      "execution_count": null,
      "outputs": []
    },
    {
      "cell_type": "code",
      "metadata": {
        "id": "SgAMDI5iXMtp"
      },
      "source": [
        "# fig,ax = plt.subplots(3,1,figsize = (20,20));\n",
        "# sns.scatterplot('P_NAME','P_PRICE',data = data,ax = ax[0])\n",
        "# ax[0].set_xlim(0,51)\n",
        "# ax[0].set_xticks(range(0,51));\n",
        "\n",
        "# sns.scatterplot('P_NAME','P_PRICE',data = data,ax = ax[1])\n",
        "# ax[1].set_xlim(51,101)\n",
        "# ax[1].set_xticks(range(51,101));\n",
        "\n",
        "# sns.scatterplot('P_NAME','P_PRICE',data = data,ax = ax[2])\n",
        "# ax[2].set_xlim(101,141)\n",
        "# ax[2].set_xticks(range(101,141));\n"
      ],
      "execution_count": null,
      "outputs": []
    },
    {
      "cell_type": "code",
      "metadata": {
        "id": "KUPuCwZPsOCu"
      },
      "source": [
        "fig,ax = plt.subplots(3,1,figsize = (20,20));\n",
        "sns.scatterplot('P_NAME','P_PRICE',data = data,ax = ax[0])\n",
        "ax[0].set_xlim(141,180)\n",
        "ax[0].set_xticks(range(141,180));\n",
        "# plt.xlim(0,20)\n",
        "\n",
        "sns.scatterplot('P_NAME','P_PRICE',data = data,ax = ax[1])\n",
        "ax[1].set_xlim(180,230)\n",
        "ax[1].set_xticks(range(180,230));\n",
        "# plt.xlim(0,20)\n",
        "\n",
        "sns.scatterplot('P_NAME','P_PRICE',data = data,ax = ax[2])\n",
        "ax[2].set_xlim(230,285)\n",
        "ax[2].set_xticks(range(230,286));\n",
        "# plt.xlim(0,20)"
      ],
      "execution_count": null,
      "outputs": []
    },
    {
      "cell_type": "markdown",
      "metadata": {
        "id": "JKHXuPnmX4_l"
      },
      "source": [
        "P_NAME과 P_PRICE를 이용해서 scatterplot을 그렸습니다."
      ]
    },
    {
      "cell_type": "code",
      "metadata": {
        "id": "uIAg6c7sXTcJ"
      },
      "source": [
        "#아웃라이어 없애기\n",
        "def outlier_iqr(data):\n",
        "    q1,q3 = np.percentile(data,[25,75])\n",
        "    iqr = q3-q1\n",
        "    lower_bound = q1 - (iqr * 1.5)\n",
        "    upper_bound = q3 + (iqr * 1.5)\n",
        "\n",
        "    return np.where((data > upper_bound) | (data < lower_bound))"
      ],
      "execution_count": null,
      "outputs": []
    },
    {
      "cell_type": "markdown",
      "metadata": {
        "id": "yGpS4-hSXwV0"
      },
      "source": [
        "아웃라이어를 없애기 위한 함수입니다."
      ]
    },
    {
      "cell_type": "code",
      "metadata": {
        "id": "mE2DqFqUYJto"
      },
      "source": [
        "# index = []\n",
        "# for i in range(0,286):\n",
        "#     if(data[data['P_NAME'] == i]['P_PRICE'].shape[0]<= 5):\n",
        "#         continue\n",
        "#     a = list(outlier_iqr(data[data['P_NAME'] == i]['P_PRICE']))\n",
        "#     index.append(a)\n",
        "\n",
        "\n",
        "# for idx in index:\n",
        "#     data.drop(idx,inplace = True)"
      ],
      "execution_count": null,
      "outputs": []
    },
    {
      "cell_type": "code",
      "metadata": {
        "id": "7PQ1TZm2hNV6"
      },
      "source": [
        "# grouped_df = data.groupby(['P_NAME'])\n",
        "\n",
        "# for key, item in grouped_df:\n",
        "#     print(grouped_df.get_group(key), \"\\n\\n\")"
      ],
      "execution_count": null,
      "outputs": []
    },
    {
      "cell_type": "code",
      "metadata": {
        "id": "c_6C_OXQCjbt"
      },
      "source": [
        ""
      ],
      "execution_count": null,
      "outputs": []
    }
  ]
}